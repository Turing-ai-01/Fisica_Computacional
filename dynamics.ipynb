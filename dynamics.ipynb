{
  "cells": [
    {
      "cell_type": "markdown",
      "metadata": {
        "id": "view-in-github",
        "colab_type": "text"
      },
      "source": [
        "<a href=\"https://colab.research.google.com/github/Turing-ai-01/Fisica_Computacional/blob/main/dynamics.ipynb\" target=\"_parent\"><img src=\"https://colab.research.google.com/assets/colab-badge.svg\" alt=\"Open In Colab\"/></a>"
      ]
    },
    {
      "cell_type": "markdown",
      "metadata": {
        "id": "Pr_E59ofLbDe"
      },
      "source": [
        "# Sistemas dinámicos"
      ]
    },
    {
      "cell_type": "markdown",
      "metadata": {
        "id": "JtDeb2olLbDh"
      },
      "source": [
        "Los sistemas dinámicos son modelos de suma importancia en las ciencias. En general, un modelo dinámico intenta resolver la trayectoria temporal de alguna cantidad física como función de algún generador dinámico; este último usualmente representado de forma funcional.\n",
        "\n",
        "En algunos casos, podemos modelar la dinámica de un estado genérico $y$ mediante la ecuación dinámica\n",
        "\\begin{equation}\n",
        "\\frac{dy}{dt} = f(t, y),\n",
        "\\end{equation}\n",
        "sujeta a la condición inicial\n",
        "\\begin{equation}\n",
        "y(t_0) = y_0.\n",
        "\\end{equation}\n",
        "\n",
        "En esta notación, $y$ corresponde a un estado del sistema. Este estado puede ser representado mediante diferentes objetos matemáticos: desde cantidades escalares hasta matrices que representan cierto operador lineal. En la ecuación anterior, $t$ corresponde a la variable temporal.\n",
        "\n",
        "El problema dinámico descrito anteriormente es usualmente conocido en el campo de las matemáticas aplicadas como **problema de condición inicial**."
      ]
    },
    {
      "cell_type": "markdown",
      "metadata": {
        "id": "_ZvrfxUfLbDh"
      },
      "source": [
        "#### Laboratorio\n",
        "\n",
        "Este tipo de problemas, el cual corresponde a algún modelo dinámico (para nombrar algunos ejemplos: sistemas electromagnéticos, dinámica de fluidos, sistemas caóticos, sistemas cuánticos, entre otros) será tema del curso más adelante. En este laboratorio, nuestro objetivo es aplicar conceptos de programación en `Python` utilizando `Jupyter Notebook`s para resolver el problema dinámico."
      ]
    },
    {
      "cell_type": "markdown",
      "metadata": {
        "id": "Zy3jbVr4LbDh"
      },
      "source": [
        "### Breve introducción a `Numpy`\n",
        "\n",
        "En cálculos referentes a ciencia aplicada, una de las bibliotecas más importantes para diseñar aplicaciones científicas en `Python` es `Numpy`. `Numpy` está estructurado como un módulo, que debe ser importado para su uso.\n",
        "\n",
        "Esto se realiza mediante la cláusula:"
      ]
    },
    {
      "cell_type": "code",
      "execution_count": 1,
      "metadata": {
        "id": "B79MCMGrLbDi"
      },
      "outputs": [],
      "source": [
        "import numpy as np"
      ]
    },
    {
      "cell_type": "markdown",
      "metadata": {
        "id": "9DN5uE0YLbDi"
      },
      "source": [
        "La cláusula `import` importa el módulo a nuestro ambiente de programación, mientras que el *keyword* `as` implica que usaremos un acrónimo para invocar la funcionalidad del módulo; con el simple objetivo de no escribir la palabra `numpy` antes de cada función que invoquemos.\n",
        "\n",
        "El objeto más importante del módulo `Numpy` es el `numpy.ndarray`. Este objeto es un contenedor (estructura de datos) que representa objetos como vectores, matrices o tensores.\n",
        "\n",
        "El constructor (estudiaremos contructores más adelante), se invoca pasando como argumento un `Python` `list`. Veamos por ejemplo como construir una matriz identidad 2x2 con esta estructura:"
      ]
    },
    {
      "cell_type": "code",
      "execution_count": 2,
      "metadata": {
        "colab": {
          "base_uri": "https://localhost:8080/"
        },
        "id": "omZDXdtnLbDi",
        "outputId": "3343df1f-78ec-4864-ddaf-f4a5383df5ba"
      },
      "outputs": [
        {
          "output_type": "stream",
          "name": "stdout",
          "text": [
            "[[1 0]\n",
            " [0 1]]\n"
          ]
        }
      ],
      "source": [
        "identityMatrix = np.array([[1,0], [0,1]])\n",
        "\n",
        "print(identityMatrix)"
      ]
    },
    {
      "cell_type": "markdown",
      "metadata": {
        "id": "3Cb6XSd5LbDj"
      },
      "source": [
        "Note que pasamos una lista de listas para crear un objeto de mayor dimensión; i.e, una matrix. Los objetos creados con `np.array` contienen varias propiedades, tales como su tamaño y dichos atributos se accesan mediante el operador `.`:"
      ]
    },
    {
      "cell_type": "code",
      "execution_count": 3,
      "metadata": {
        "colab": {
          "base_uri": "https://localhost:8080/"
        },
        "id": "hheNkdzKLbDj",
        "outputId": "be80d8c4-c423-436c-9801-ce525604d721"
      },
      "outputs": [
        {
          "output_type": "execute_result",
          "data": {
            "text/plain": [
              "(2, 2)"
            ]
          },
          "metadata": {},
          "execution_count": 3
        }
      ],
      "source": [
        "identityMatrix.shape"
      ]
    },
    {
      "cell_type": "markdown",
      "metadata": {
        "id": "Ao3ersO0LbDj"
      },
      "source": [
        "Los objetos se pueden operar matemáticamente de forma sencilla:"
      ]
    },
    {
      "cell_type": "code",
      "execution_count": 4,
      "metadata": {
        "colab": {
          "base_uri": "https://localhost:8080/"
        },
        "id": "6PB7YV3BLbDk",
        "outputId": "f4968b58-fdb1-4951-870f-88ed5201e701"
      },
      "outputs": [
        {
          "output_type": "execute_result",
          "data": {
            "text/plain": [
              "array([[2, 0],\n",
              "       [0, 2]])"
            ]
          },
          "metadata": {},
          "execution_count": 4
        }
      ],
      "source": [
        "identityMatrix + identityMatrix"
      ]
    },
    {
      "cell_type": "code",
      "execution_count": 5,
      "metadata": {
        "colab": {
          "base_uri": "https://localhost:8080/"
        },
        "id": "hRUiNG6YLbDk",
        "outputId": "7b890138-5d8c-4b66-86c3-13f87e489119"
      },
      "outputs": [
        {
          "output_type": "execute_result",
          "data": {
            "text/plain": [
              "array([[1, 0],\n",
              "       [0, 1]])"
            ]
          },
          "metadata": {},
          "execution_count": 5
        }
      ],
      "source": [
        "aEx = np.array([[0,1], [1,0]])\n",
        "\n",
        "np.dot(aEx, aEx) # El producto matricial A*B"
      ]
    },
    {
      "cell_type": "markdown",
      "metadata": {
        "id": "Gy2UGzfmLbDk"
      },
      "source": [
        "La documentación de `Numpy` se puede accesar mediante su página de referencia:\n",
        "[NumPy](https://numpy.org)"
      ]
    },
    {
      "cell_type": "markdown",
      "metadata": {
        "id": "nA6UTa_8LbDk"
      },
      "source": [
        "## Soluciones a sistemas dinámicos\n",
        "\n",
        "Los sistemas dinámicos y las soluciones numéricas a ecuaciones diferenciales son un tema importante de este curso que será estudiado más adelante. De momento, queremos utilizar este problema para familiarizarnos con el ambiente de programación científica."
      ]
    },
    {
      "cell_type": "markdown",
      "metadata": {
        "id": "7uANYBvBLbDk"
      },
      "source": [
        "Lo primero que vamos a hacer es describir el método numérico que vamos a utilizar para implementar la solución.\n",
        "\n",
        "Vamos a utilizar el método Runge-Kutta de orden 4 para resolver el problema."
      ]
    },
    {
      "cell_type": "markdown",
      "metadata": {
        "id": "AhDmG0PgLbDk"
      },
      "source": [
        "## Método Runge-Kutta de orden 4 (RK4)\n",
        "\n",
        "Escriba las ecuaciones del método numérico utilizando LateX embedido en una celda de Markdown:"
      ]
    },
    {
      "cell_type": "markdown",
      "metadata": {
        "id": "e2t4F4tkLbDk"
      },
      "source": [
        "* $k_1 = hf(t,y)$\n",
        "* $k_2 = hf(y+\\frac{k_1}{2},t +\\frac{h}{2})$\n",
        "* $k_3 = hf(y+\\frac{k_2}{2},t +\\frac{h}{2})$\n",
        "* $k_4 = hf(y+k_3,t+h)$\n",
        "* $y(t+h)=y(t)+\\frac{1}{6}(k_1+2k_2+2k_3+k_4)$"
      ]
    },
    {
      "cell_type": "markdown",
      "metadata": {
        "id": "LYhIGOXkLbDk"
      },
      "source": [
        "## Ejemplo\n",
        "\n",
        "Armados con esta metodología vamos a estudiar la solución de un problema dinámico genérico.\n",
        "\n",
        "Asumamos que queremos estudiar la evolución temporal de un estado $\\mathbf{y}(t)$. Este estado será representado mediante una matriz 2x2 que corresponde a algún operador lineal. La función que genra la dinámica del problema es\n",
        "$$\n",
        "f(t, \\mathbf{y}) = -{\\rm{i}} [\\mathbf{O}, \\mathbf{y}(t)],\n",
        "$$\n",
        "donde $\\mathbf{O}$ es otro operador lineal, ${\\rm{i}}$ es la constante compleja y $[A, B] = AB - BA$ es un operación de conmutación. Note que **la función $f(t, \\mathbf{y})$ no depende explícitamente de la variable temporal**.\n",
        "\n",
        "En Python, la constante compleja se denota mediante:"
      ]
    },
    {
      "cell_type": "code",
      "execution_count": 6,
      "metadata": {
        "colab": {
          "base_uri": "https://localhost:8080/"
        },
        "id": "joSrgellLbDk",
        "outputId": "cbdca7ab-b96d-400e-d81d-c27374e8a129"
      },
      "outputs": [
        {
          "output_type": "stream",
          "name": "stdout",
          "text": [
            "1j\n"
          ]
        }
      ],
      "source": [
        "iConst = 1.0j\n",
        "\n",
        "print(iConst)"
      ]
    },
    {
      "cell_type": "markdown",
      "metadata": {
        "id": "AWF5c7OgLbDl"
      },
      "source": [
        "La dinámica del problema depende intrínsicamente del operador $\\mathbf{O}$. Escojamos el siguiente operador:"
      ]
    },
    {
      "cell_type": "code",
      "execution_count": 7,
      "metadata": {
        "colab": {
          "base_uri": "https://localhost:8080/"
        },
        "id": "mjyUXn0BLbDl",
        "outputId": "eb652417-35e6-4788-cd32-0237f812975e"
      },
      "outputs": [
        {
          "output_type": "stream",
          "name": "stdout",
          "text": [
            "[[0 1]\n",
            " [1 0]]\n"
          ]
        }
      ],
      "source": [
        "oOper = np.array([[0, 1], [1, 0]])\n",
        "\n",
        "print(oOper)"
      ]
    },
    {
      "cell_type": "markdown",
      "metadata": {
        "id": "8_ZLJrbjLbDl"
      },
      "source": [
        "Dicho operador puede tener distintos significados físicos dependiendo del problema dinámico en cuestión. Puede representar un mapa algebraico, el generador dinámico de un sistema caótico, un Hamiltoniano, etc."
      ]
    },
    {
      "cell_type": "markdown",
      "metadata": {
        "id": "Xe-ZJVVjLbDl"
      },
      "source": [
        "Lo siguiente es difinir un estado inicial. De igual forma, dicho estado puede representar cantidades físicas de un sistema. Consideremos:"
      ]
    },
    {
      "cell_type": "code",
      "execution_count": 8,
      "metadata": {
        "colab": {
          "base_uri": "https://localhost:8080/"
        },
        "id": "k7fDHA3qLbDl",
        "outputId": "85bee75f-50e7-4939-dcc6-b6526028c49f"
      },
      "outputs": [
        {
          "output_type": "stream",
          "name": "stdout",
          "text": [
            "[[1 0]\n",
            " [0 0]]\n"
          ]
        }
      ],
      "source": [
        "yInit = np.array([[1, 0], [0, 0]])\n",
        "\n",
        "print(yInit)"
      ]
    },
    {
      "cell_type": "markdown",
      "metadata": {
        "id": "b86tn3DmLbDl"
      },
      "source": [
        "Note que el operador $\\mathbf{O}$ no es diagonal, por lo cual esperamos que conforme avanza el tiempo, dicho operador modifica el estado $\\mathbf{y}(t)$.\n",
        "\n",
        "Implementemos la función $f(t, \\mathbf{y})$ en Python. Para esto puede utilizar la función [np.dot](https://numpy.org/doc/stable/reference/generated/numpy.dot.html)"
      ]
    },
    {
      "cell_type": "code",
      "execution_count": 9,
      "metadata": {
        "id": "9xx80MYmLbDl"
      },
      "outputs": [],
      "source": [
        "# Su código aquí\n",
        "# El keyword pass está aquí para que la celda pueda ser interpretada sin necesidad de\n",
        "# tener la función implementada. Su tarea es borrar el pass e implementar la función\n",
        "def dyn_generator(oper, state):\n",
        "    return -1.0j * (np.dot(oper, state) - np.dot(state, oper))"
      ]
    },
    {
      "cell_type": "markdown",
      "metadata": {
        "id": "V1irXFBTLbDl"
      },
      "source": [
        "Ahora tenemos que implementar la función que realiza la operación dinámica en `Python`. Escriba una función que implementa el método RK4:"
      ]
    },
    {
      "cell_type": "code",
      "execution_count": 25,
      "metadata": {
        "id": "Jf2hnMLnLbDl"
      },
      "outputs": [],
      "source": [
        "def rk4(func, oper, state, h):\n",
        "    k_1 = h*func(oper, state)\n",
        "    k_2 = h*func(oper + k_1/2 ,state + h/2)\n",
        "    k_3 = h*func(state + k_2/2 , state + h/2)\n",
        "    k_4 = h*func(oper + k_3 , state + h)\n",
        "    y_t_h = oper +(1/6)*(k_1 + 2*(k_2)+ 2*(k_3) +k_4)\n",
        "    return y_t_h"
      ]
    },
    {
      "cell_type": "markdown",
      "metadata": {
        "id": "ZaXjDFV4LbDl"
      },
      "source": [
        "Con estas funciones a nuestra disposición, podemos evaluar la dinámica temporal en una grilla temporal unidimensional. Utilice la función [np.linspace](https://numpy.org/doc/stable/reference/generated/numpy.linspace.html) para crear un arreglo de valores temporales:"
      ]
    },
    {
      "cell_type": "code",
      "execution_count": 26,
      "metadata": {
        "id": "bgsa2aArLbDm"
      },
      "outputs": [],
      "source": [
        "# Su código aquí\n",
        "# Utilice el nombre \"times\" para la variable que contiene el arreglo de valores temporales\n",
        "# Utilice un valor final de t = 10.0\n",
        "times = np.linspace(1.0,10.0)\n"
      ]
    },
    {
      "cell_type": "markdown",
      "metadata": {
        "id": "mPApYXPnLbDm"
      },
      "source": [
        "Note que dicha función genera un arreglo con valores temporales homogéneos. Cual sería el valor de $h$?"
      ]
    },
    {
      "cell_type": "code",
      "execution_count": 27,
      "metadata": {
        "id": "Q2Oj4Bg5LbDm"
      },
      "outputs": [],
      "source": [
        "# Su código aquí\n",
        "# Utilice el nombre \"h\" para la variable que contiene el paso temporal\n",
        "h = times[1] - times[0]"
      ]
    },
    {
      "cell_type": "markdown",
      "metadata": {
        "id": "eByD_9YjLbDm"
      },
      "source": [
        "Ahora creamos una rutina para realizar la evolución temporal. Primero, necesitamos una copia del operador que representa el estado inicial. Esto se puede hacer con el método `copy()` del módulo `numpy`:"
      ]
    },
    {
      "cell_type": "code",
      "execution_count": 28,
      "metadata": {
        "id": "CzXteW_OLbDm"
      },
      "outputs": [],
      "source": [
        "# Haga un deep copy de yInit y llamele yCopy\n",
        "# Los deep copies son muy importantes, analizaremos esto más adelante en el curso\n",
        "yCopy = yInit.copy()"
      ]
    },
    {
      "cell_type": "markdown",
      "metadata": {
        "id": "n7yAhlAyLbDm"
      },
      "source": [
        "Y, finalmente, llamamos de manera iterativa la rutina `rk4()`, calculando el operador del estado del sistema $\\mathbf{y}(t)$ a través del tiempo. A travéz del tiempo, vamos a guardar la entrada $(0, 0)$ y $(1, 1)$ de la matriz $\\mathbf{y}(t)$.\n",
        "\n",
        "Para esto, vamos a inicializar dos arreglos que van a contener los valores con valores iniciales cero. Utilizamos el mismo tamaño del arreglo que contiene la variable independiente temporal:"
      ]
    },
    {
      "cell_type": "code",
      "execution_count": 29,
      "metadata": {
        "id": "KTi-5hmALbDm"
      },
      "outputs": [],
      "source": [
        "stateQuant00 = np.zeros(times.size)\n",
        "stateQuant11 = np.zeros(times.size)"
      ]
    },
    {
      "cell_type": "markdown",
      "metadata": {
        "id": "OykSOUcGLbDm"
      },
      "source": [
        "Rutina principal: esta rutina realiza la evolución temporal."
      ]
    },
    {
      "cell_type": "code",
      "execution_count": 30,
      "metadata": {
        "id": "Tj6JYcgsLbDm",
        "colab": {
          "base_uri": "https://localhost:8080/"
        },
        "outputId": "0abd7784-ecc3-48ae-88f1-609cc0fcaae0"
      },
      "outputs": [
        {
          "output_type": "stream",
          "name": "stderr",
          "text": [
            "<ipython-input-30-abe2736fa5a2>:7: ComplexWarning: Casting complex values to real discards the imaginary part\n",
            "  stateQuant00[tt] = yCopy[0,0]\n",
            "<ipython-input-30-abe2736fa5a2>:8: ComplexWarning: Casting complex values to real discards the imaginary part\n",
            "  stateQuant11[tt] = yCopy[1,1]\n"
          ]
        }
      ],
      "source": [
        "for tt in range(times.size):\n",
        "    # Guarde el valor de las entradas (0,0) y (1,1) en los arreglos que definimos\n",
        "    # Obtenga estos valores de las entradas de yInit\n",
        "    # Código aquí ->\n",
        "    #stateQuant00[tt] = yInit[0,0]\n",
        "    #stateQuant11[tt] = yInit[1,1]\n",
        "    stateQuant00[tt] = yCopy[0,0]\n",
        "    stateQuant11[tt] = yCopy[1,1]\n",
        "\n",
        "    # Invoque rk4 operando sobre yInit\n",
        "    # y devuelva el resultado a un nuevo yN\n",
        "    # Código aquí ->\n",
        "\n",
        "    yN = rk4(dyn_generator, oOper, yCopy, h)\n",
        "\n",
        "    # Ahora asignamos yN a yInit\n",
        "    # De esta manera, en la siguiente iteración, el operador de esta iteración se convierte en el inicial\n",
        "    # de la siguiente iteración\n",
        "    yCopy = yN"
      ]
    },
    {
      "cell_type": "markdown",
      "metadata": {
        "id": "jBCnOA8qLbDm"
      },
      "source": [
        "Hagamos un gráfico de los resultados usando `matplotlib`:"
      ]
    },
    {
      "cell_type": "code",
      "execution_count": 31,
      "metadata": {
        "id": "epYkxpCOLbDp",
        "colab": {
          "base_uri": "https://localhost:8080/",
          "height": 430
        },
        "outputId": "4e1df371-17e7-4e29-b897-90e4fe98ce19"
      },
      "outputs": [
        {
          "output_type": "display_data",
          "data": {
            "text/plain": [
              "<Figure size 640x480 with 1 Axes>"
            ],
            "image/png": "[encoded data removed]"
          },
          "metadata": {}
        }
      ],
      "source": [
        "import matplotlib.pyplot as plt\n",
        "\n",
        "# Código aquí ->\n",
        "plt.plot(times, stateQuant00)\n",
        "plt.plot(times, stateQuant11)\n",
        "plt.show()\n",
        "# Juegue con el valor de h para probar que utilizando valores grandes de h la dinámica se vuelve inestable"
      ]
    },
    {
      "cell_type": "code",
      "source": [],
      "metadata": {
        "id": "zdNBZKmKxjed"
      },
      "execution_count": null,
      "outputs": []
    }
  ],
  "metadata": {
    "anaconda-cloud": {},
    "kernelspec": {
      "display_name": "Python 3 (ipykernel)",
      "language": "python",
      "name": "python3"
    },
    "language_info": {
      "codemirror_mode": {
        "name": "ipython",
        "version": 3
      },
      "file_extension": ".py",
      "mimetype": "text/x-python",
      "name": "python",
      "nbconvert_exporter": "python",
      "pygments_lexer": "ipython3",
      "version": "3.10.12"
    },
    "colab": {
      "provenance": [],
      "include_colab_link": true
    }
  },
  "nbformat": 4,
  "nbformat_minor": 0
}